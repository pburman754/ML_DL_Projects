{
  "nbformat": 4,
  "nbformat_minor": 0,
  "metadata": {
    "colab": {
      "provenance": []
    },
    "kernelspec": {
      "name": "python3",
      "display_name": "Python 3"
    },
    "language_info": {
      "name": "python"
    }
  },
  "cells": [
    {
      "cell_type": "code",
      "execution_count": 1,
      "metadata": {
        "colab": {
          "base_uri": "https://localhost:8080/"
        },
        "id": "yo6UVU049ItB",
        "outputId": "1fa722aa-e94a-4567-90f1-db6670fd622b"
      },
      "outputs": [
        {
          "output_type": "stream",
          "name": "stdout",
          "text": [
            "Downloading data from https://storage.googleapis.com/tensorflow/tf-keras-datasets/imdb.npz\n",
            "\u001b[1m17464789/17464789\u001b[0m \u001b[32m━━━━━━━━━━━━━━━━━━━━\u001b[0m\u001b[37m\u001b[0m \u001b[1m1s\u001b[0m 0us/step\n",
            "X_train shape (after padding): (25000, 200)\n"
          ]
        }
      ],
      "source": [
        "import tensorflow as tf\n",
        "from tensorflow.keras.datasets import imdb\n",
        "from tensorflow.keras.models import Sequential\n",
        "from tensorflow.keras.layers import Dense,Embedding, LSTM\n",
        "from tensorflow.keras.preprocessing import sequence\n",
        "\n",
        "vocab_size = 10000\n",
        "(X_train, y_train), (X_test, y_test) = imdb.load_data(num_words = vocab_size)\n",
        "\n",
        "maxlen = 200\n",
        "X_train = sequence.pad_sequences(X_train, maxlen=maxlen)\n",
        "X_test = sequence.pad_sequences(X_test, maxlen = maxlen)\n",
        "\n",
        "print(f\"X_train shape (after padding): {X_train.shape}\")"
      ]
    },
    {
      "cell_type": "code",
      "source": [
        "from typing import Sequence\n",
        "embedding_size = 32\n",
        "model_nlp = Sequential()\n",
        "\n",
        "model_nlp.add(Embedding(input_dim = vocab_size, output_dim = embedding_size, input_length = maxlen))\n",
        "\n",
        "model_nlp.add(LSTM(units=100))\n",
        "\n",
        "model_nlp.add(Dense(units = 1, activation=\"sigmoid\"))\n",
        "\n",
        "model_nlp.compile(optimizer=\"adam\", loss=\"binary_crossentropy\", metrics=[\"accuracy\"])\n",
        "print(model_nlp.summary())"
      ],
      "metadata": {
        "id": "P0a6i_U__YXi"
      },
      "execution_count": null,
      "outputs": []
    },
    {
      "cell_type": "code",
      "source": [
        "history_nlp = model_nlp.fit(\n",
        "    X_train,\n",
        "    y_train,\n",
        "    epochs=3,\n",
        "    batch_size=64,\n",
        "    validation_data=(X_test, y_test),\n",
        "    verbose=1\n",
        ")"
      ],
      "metadata": {
        "colab": {
          "base_uri": "https://localhost:8080/"
        },
        "id": "jVjP5qvwAW5y",
        "outputId": "ab18f36f-ea37-4176-dc8e-00edfd172ece"
      },
      "execution_count": 8,
      "outputs": [
        {
          "output_type": "stream",
          "name": "stdout",
          "text": [
            "Epoch 1/3\n",
            "\u001b[1m391/391\u001b[0m \u001b[32m━━━━━━━━━━━━━━━━━━━━\u001b[0m\u001b[37m\u001b[0m \u001b[1m170s\u001b[0m 425ms/step - accuracy: 0.6795 - loss: 0.5682 - val_accuracy: 0.8433 - val_loss: 0.3544\n",
            "Epoch 2/3\n",
            "\u001b[1m391/391\u001b[0m \u001b[32m━━━━━━━━━━━━━━━━━━━━\u001b[0m\u001b[37m\u001b[0m \u001b[1m206s\u001b[0m 435ms/step - accuracy: 0.8964 - loss: 0.2697 - val_accuracy: 0.8654 - val_loss: 0.3188\n",
            "Epoch 3/3\n",
            "\u001b[1m391/391\u001b[0m \u001b[32m━━━━━━━━━━━━━━━━━━━━\u001b[0m\u001b[37m\u001b[0m \u001b[1m207s\u001b[0m 529ms/step - accuracy: 0.9238 - loss: 0.2064 - val_accuracy: 0.8650 - val_loss: 0.3549\n"
          ]
        }
      ]
    },
    {
      "cell_type": "code",
      "source": [
        "loss,accuracy = model_nlp.evaluate(X_test, y_test, verbose=0)\n",
        "print(f\"\\n--- NLP Final Exam Score ---\")\n",
        "print(f\"Test Accuracy: {accuracy * 100:.2f}%\")"
      ],
      "metadata": {
        "colab": {
          "base_uri": "https://localhost:8080/"
        },
        "id": "abdwktrlAvF0",
        "outputId": "79cf4ff7-640b-4871-99d1-e13fb8ea0905"
      },
      "execution_count": 9,
      "outputs": [
        {
          "output_type": "stream",
          "name": "stdout",
          "text": [
            "\n",
            "--- NLP Final Exam Score ---\n",
            "Test Accuracy: 86.50%\n"
          ]
        }
      ]
    },
    {
      "cell_type": "code",
      "source": [
        "print(\"Saving Model\")\n",
        "model_nlp.save(\"sentiment_model.keras\")\n",
        "print(\"Model saved!\")"
      ],
      "metadata": {
        "colab": {
          "base_uri": "https://localhost:8080/"
        },
        "id": "60qH6qcbDbAN",
        "outputId": "d4e7e183-0912-4ac2-fa79-7793403bef8a"
      },
      "execution_count": 11,
      "outputs": [
        {
          "output_type": "stream",
          "name": "stdout",
          "text": [
            "Saving Model\n",
            "Model saved!\n"
          ]
        }
      ]
    }
  ]
}